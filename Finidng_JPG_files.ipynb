{
 "cells": [
  {
   "cell_type": "code",
   "execution_count": 2,
   "metadata": {},
   "outputs": [
    {
     "name": "stdout",
     "output_type": "stream",
     "text": [
      "1302f9b1-d2cf-426a-bd8e-bb09efced02d.jpg\n",
      "5275cf91-3dfc-4272-9c7c-10e0d4950b77.jpg\n",
      "IMG_2798.jpg\n",
      "IMG_2861.jpg\n",
      "IMG_3088.jpg\n",
      "IMG_3641.JPG\n",
      "IMG_4043.jpg\n",
      "IMG_4066.jpg\n"
     ]
    }
   ],
   "source": [
    "import os, glob\n",
    "\n",
    "os.chdir('C:/Users/senju/OneDrive/Desktop/Mayabi')\n",
    "for file in glob.glob(\"*.jpg\"):\n",
    "    print (file)\n"
   ]
  },
  {
   "cell_type": "code",
   "execution_count": null,
   "metadata": {},
   "outputs": [],
   "source": []
  }
 ],
 "metadata": {
  "kernelspec": {
   "display_name": "Python 3",
   "language": "python",
   "name": "python3"
  },
  "language_info": {
   "codemirror_mode": {
    "name": "ipython",
    "version": 3
   },
   "file_extension": ".py",
   "mimetype": "text/x-python",
   "name": "python",
   "nbconvert_exporter": "python",
   "pygments_lexer": "ipython3",
   "version": "3.7.6"
  }
 },
 "nbformat": 4,
 "nbformat_minor": 4
}
